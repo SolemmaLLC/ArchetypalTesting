{
 "cells": [
  {
   "cell_type": "code",
   "execution_count": 1,
   "metadata": {},
   "outputs": [],
   "source": [
    "import chardet\n",
    "\n",
    "def detect_file_encoding(file_path):\n",
    "    with open(file_path, 'rb') as f:\n",
    "        result = chardet.detect(f.read())\n",
    "    return result['encoding']"
   ]
  },
  {
   "cell_type": "code",
   "execution_count": 2,
   "metadata": {},
   "outputs": [],
   "source": [
    "# import archetypal as arch\n",
    "from archetypal import IDF, UmiTemplateLibrary\n"
   ]
  },
  {
   "cell_type": "code",
   "execution_count": 3,
   "metadata": {},
   "outputs": [],
   "source": [
    "eplus_file = \"IDFTemplates/DOE Reference Buildings 5A/refbldg_5a_usa_il_chicago-ohare_new2004_v1-4_7-2/RefBldgWarehouseNew2004_v1.4_7.2_5A_USA_IL_CHICAGO-OHARE.idf\"\n",
    "weather = \"IDFTemplates/USA_IL_Chicago-OHare.Intl.AP.725300_TMY3.epw\""
   ]
  },
  {
   "cell_type": "code",
   "execution_count": 4,
   "metadata": {},
   "outputs": [
    {
     "data": {
      "text/plain": [
       "'ISO-8859-1'"
      ]
     },
     "execution_count": 4,
     "metadata": {},
     "output_type": "execute_result"
    }
   ],
   "source": [
    "encoding = detect_file_encoding(eplus_file)\n",
    "encoding\n"
   ]
  },
  {
   "cell_type": "code",
   "execution_count": 5,
   "metadata": {},
   "outputs": [],
   "source": [
    "# open the file with detected encoding\n",
    "with open(eplus_file, 'r', encoding=encoding) as f:\n",
    "    content = f.read()\n",
    "\n",
    "# write the content to a new file with utf-8 encoding\n",
    "with open(eplus_file +'.utf8.idf', 'w', encoding='utf-8') as f:\n",
    "    f.write(content)"
   ]
  },
  {
   "cell_type": "code",
   "execution_count": 6,
   "metadata": {},
   "outputs": [],
   "source": [
    "eplus_file = eplus_file +'.utf8.idf'"
   ]
  },
  {
   "cell_type": "code",
   "execution_count": 7,
   "metadata": {},
   "outputs": [],
   "source": [
    "idf = IDF(as_version= \"22-2-0\", idfname=eplus_file, epw=weather)  # IDF load"
   ]
  },
  {
   "cell_type": "code",
   "execution_count": 8,
   "metadata": {},
   "outputs": [
    {
     "name": "stderr",
     "output_type": "stream",
     "text": [
      "/Applications/EnergyPlus-22-2-0/ExpandObjects #0-RefBldgWarehouseNew2004_v1.4_7.2_5A_USA_IL_CHICAGO-OHARE.idf.utf8.idf: 3.00it [00:00, 13.5it/s]\n",
      "/Applications/EnergyPlus-22-2-0/energyplus RefBldgWarehouseNew2004_v1.4_7.2_5A_USA_IL_CHICAGO-OHARE.idf.utf8.idf: 174it [00:07, 22.49it/s]\n",
      "Modeling layer thinner (less) than 0.003 m (not recommended) for MaterialLayer '140240635736608:Metal Roofing with thickness of 0.002 m'\n",
      "Modeling layer thinner (less) than 0.003 m (not recommended) for MaterialLayer '140240635737328:Metal Siding with thickness of 0.002 m'\n",
      "Modeling layer thinner (less) than 0.003 m (not recommended) for MaterialLayer '140240885466832:Metal Siding with thickness of 0.002 m'\n",
      "Modeling layer thinner (less) than 0.003 m (not recommended) for MaterialLayer '140241699102784:Metal Siding with thickness of 0.002 m'\n",
      "/Applications/EnergyPlus-22-2-0/ExpandObjects #0-RefBldgWarehouseNew2004_v1.4_7.2_5A_USA_IL_CHICAGO-OHARE.idf.utf8.idf: 3.00it [00:00, 99.9it/s]\n",
      "/Applications/EnergyPlus-22-2-0/energyplus RefBldgWarehouseNew2004_v1.4_7.2_5A_USA_IL_CHICAGO-OHARE.idf.utf8.idf: 100%|██████████| 174/174 [00:07<00:00, 24.22it/s]\n",
      "/Applications/EnergyPlus-22-2-0/ExpandObjects #0-RefBldgWarehouseNew2004_v1.4_7.2_5A_USA_IL_CHICAGO-OHARE.idf.utf8.idf: 3.00it [00:00, 66.1it/s]\n",
      "/Applications/EnergyPlus-22-2-0/energyplus RefBldgWarehouseNew2004_v1.4_7.2_5A_USA_IL_CHICAGO-OHARE.idf.utf8.idf: 100%|██████████| 174/174 [00:07<00:00, 24.83it/s]\n",
      "Table ZoneInfiltration Airflow Stats Nominal does not exist. Returning an empty DataFrame\n",
      "Table ZoneVentilation Airflow Stats Nominal does not exist. Returning an empty DataFrame\n",
      "Table ZoneVentilation Airflow Stats Nominal does not exist. Returning an empty DataFrame\n",
      "Modeling layer thinner (less) than 0.003 m (not recommended) for MaterialLayer '140240884193456:Metal Siding with thickness of 0.002 m'\n",
      "Modeling layer thinner (less) than 0.003 m (not recommended) for MaterialLayer '140240884194176:Metal Siding with thickness of 0.002 m'\n",
      "Modeling layer thinner (less) than 0.003 m (not recommended) for MaterialLayer '140240884194896:Metal Roofing with thickness of 0.002 m'\n",
      "Modeling layer thinner (less) than 0.003 m (not recommended) for MaterialLayer '140240624243712:Metal Siding with thickness of 0.002 m'\n",
      "Modeling layer thinner (less) than 0.003 m (not recommended) for MaterialLayer '140240624244912:Metal Siding with thickness of 0.002 m'\n",
      "Modeling layer thinner (less) than 0.003 m (not recommended) for MaterialLayer '140240624245632:Metal Siding with thickness of 0.002 m'\n",
      "Table ZoneInfiltration Airflow Stats Nominal does not exist. Returning an empty DataFrame\n",
      "Table ZoneVentilation Airflow Stats Nominal does not exist. Returning an empty DataFrame\n",
      "Table ZoneVentilation Airflow Stats Nominal does not exist. Returning an empty DataFrame\n",
      "Modeling layer thinner (less) than 0.003 m (not recommended) for MaterialLayer '140241035490784:Metal Siding with thickness of 0.002 m'\n",
      "Modeling layer thinner (less) than 0.003 m (not recommended) for MaterialLayer '140241035491504:Metal Siding with thickness of 0.002 m'\n",
      "Modeling layer thinner (less) than 0.003 m (not recommended) for MaterialLayer '140241035492224:Metal Siding with thickness of 0.002 m'\n",
      "Modeling layer thinner (less) than 0.003 m (not recommended) for MaterialLayer '140241035492944:Metal Siding with thickness of 0.002 m'\n",
      "Table ZoneInfiltration Airflow Stats Nominal does not exist. Returning an empty DataFrame\n",
      "Table ZoneVentilation Airflow Stats Nominal does not exist. Returning an empty DataFrame\n",
      "Table ZoneVentilation Airflow Stats Nominal does not exist. Returning an empty DataFrame\n",
      "Modeling layer thinner (less) than 0.003 m (not recommended) for MaterialLayer '140240415581248:Semi-Cond Fixed Assembly Window with thickness of 0.002 m'\n",
      "Modeling layer thinner (less) than 0.003 m (not recommended) for MaterialLayer '140240415582784:Semi-Cond Fixed Assembly Window with thickness of 0.002 m'\n",
      "Modeling layer thinner (less) than 0.003 m (not recommended) for MaterialLayer '140240415583040:Semi-Cond Fixed Assembly Window with thickness of 0.002 m'\n",
      "Modeling layer thinner (less) than 0.003 m (not recommended) for MaterialLayer '140240415581504:Semi-Cond Fixed Assembly Window with thickness of 0.002 m'\n",
      "Creating UMI objects for RefBldgWarehouseNew2004_v1.4_7.2_5A_USA_IL_CHICAGO-OHARE.idf.utf8: 100%|██████████| 3/3 [00:19<00:00,  6.64s/it]\n",
      "Reducing perimeter zones in RefBldgWarehouseNew2004_v1.4_7.2_5A_USA_IL_CHICAGO-OHARE.idf.utf8: 100%|██████████| 3/3 [00:00<00:00, 83.85it/s]\n",
      "template_complexity_reduction: 100%|██████████| 1.00/1.00 [00:28<00:00, 28.8s/runs]\n"
     ]
    },
    {
     "ename": "ValueError",
     "evalue": "cannot reshape array of size 12 into shape (24)",
     "output_type": "error",
     "traceback": [
      "\u001b[0;31m---------------------------------------------------------------------------\u001b[0m",
      "\u001b[0;31mValueError\u001b[0m                                Traceback (most recent call last)",
      "Cell \u001b[0;32mIn[8], line 1\u001b[0m\n\u001b[0;32m----> 1\u001b[0m template \u001b[39m=\u001b[39m UmiTemplateLibrary\u001b[39m.\u001b[39;49mfrom_idf_files(idf_files \u001b[39m=\u001b[39;49m [eplus_file], weather\u001b[39m=\u001b[39;49mweather, debug\u001b[39m=\u001b[39;49m\u001b[39mTrue\u001b[39;49;00m, keep_all_zones\u001b[39m=\u001b[39;49m\u001b[39mFalse\u001b[39;49;00m)\n",
      "File \u001b[0;32m~/anaconda3/envs/archdata/lib/python3.8/site-packages/archetypal/umi_template.py:282\u001b[0m, in \u001b[0;36mUmiTemplateLibrary.from_idf_files\u001b[0;34m(cls, idf_files, weather, name, processors, keep_all_zones, unique_components, debug, **kwargs)\u001b[0m\n\u001b[1;32m    279\u001b[0m     exceptions \u001b[39m=\u001b[39m \u001b[39mNone\u001b[39;00m\n\u001b[1;32m    281\u001b[0m \u001b[39m# Get unique instances\u001b[39;00m\n\u001b[0;32m--> 282\u001b[0m umi_template\u001b[39m.\u001b[39;49munique_components(\n\u001b[1;32m    283\u001b[0m     \u001b[39m*\u001b[39;49m(unique_components \u001b[39mor\u001b[39;49;00m []), exceptions\u001b[39m=\u001b[39;49mexceptions\n\u001b[1;32m    284\u001b[0m )\n\u001b[1;32m    286\u001b[0m \u001b[39m# Update attributes of instance\u001b[39;00m\n\u001b[1;32m    287\u001b[0m umi_template\u001b[39m.\u001b[39mupdate_components_list(exceptions\u001b[39m=\u001b[39mexceptions)\n",
      "File \u001b[0;32m~/anaconda3/envs/archdata/lib/python3.8/site-packages/archetypal/umi_template.py:702\u001b[0m, in \u001b[0;36mUmiTemplateLibrary.unique_components\u001b[0;34m(self, exceptions, keep_orphaned, *args)\u001b[0m\n\u001b[1;32m    697\u001b[0m                 \u001b[39mif\u001b[39;00m key:\n\u001b[1;32m    698\u001b[0m                     \u001b[39msetattr\u001b[39m(\n\u001b[1;32m    699\u001b[0m                         parent, key, obj\u001b[39m.\u001b[39mget_unique()\n\u001b[1;32m    700\u001b[0m                     )  \u001b[39m# set unique object on key\u001b[39;00m\n\u001b[0;32m--> 702\u001b[0m \u001b[39mself\u001b[39;49m\u001b[39m.\u001b[39;49mupdate_components_list(exceptions\u001b[39m=\u001b[39;49mexceptions)  \u001b[39m# Update the components list\u001b[39;00m\n\u001b[1;32m    703\u001b[0m \u001b[39mif\u001b[39;00m keep_orphaned:\n\u001b[1;32m    704\u001b[0m     \u001b[39mfor\u001b[39;00m obj \u001b[39min\u001b[39;00m orphans:\n",
      "File \u001b[0;32m~/anaconda3/envs/archdata/lib/python3.8/site-packages/archetypal/umi_template.py:732\u001b[0m, in \u001b[0;36mUmiTemplateLibrary.update_components_list\u001b[0;34m(self, exceptions)\u001b[0m\n\u001b[1;32m    728\u001b[0m \u001b[39mfor\u001b[39;00m parent, key, child \u001b[39min\u001b[39;00m parent_key_child_traversal(component):\n\u001b[1;32m    729\u001b[0m     \u001b[39mif\u001b[39;00m \u001b[39misinstance\u001b[39m(child, UmiSchedule) \u001b[39mand\u001b[39;00m \u001b[39mnot\u001b[39;00m \u001b[39misinstance\u001b[39m(\n\u001b[1;32m    730\u001b[0m         child, (DaySchedule, WeekSchedule, YearSchedule)\n\u001b[1;32m    731\u001b[0m     ):\n\u001b[0;32m--> 732\u001b[0m         y, ws, ds \u001b[39m=\u001b[39m child\u001b[39m.\u001b[39;49mto_year_week_day()\n\u001b[1;32m    733\u001b[0m         \u001b[39mif\u001b[39;00m \u001b[39mnot\u001b[39;00m \u001b[39many\u001b[39m(o\u001b[39m.\u001b[39mid \u001b[39m==\u001b[39m y\u001b[39m.\u001b[39mid \u001b[39mfor\u001b[39;00m o \u001b[39min\u001b[39;00m \u001b[39mself\u001b[39m\u001b[39m.\u001b[39mYearSchedules):\n\u001b[1;32m    734\u001b[0m             \u001b[39mself\u001b[39m\u001b[39m.\u001b[39mYearSchedules\u001b[39m.\u001b[39mappend(y)\n",
      "File \u001b[0;32m~/anaconda3/envs/archdata/lib/python3.8/site-packages/archetypal/schedule.py:1437\u001b[0m, in \u001b[0;36mSchedule.to_year_week_day\u001b[0;34m(self)\u001b[0m\n\u001b[1;32m   1434\u001b[0m full_year \u001b[39m=\u001b[39m np\u001b[39m.\u001b[39marray(\u001b[39mself\u001b[39m\u001b[39m.\u001b[39mall_values)  \u001b[39m# array of shape (8760,)\u001b[39;00m\n\u001b[1;32m   1436\u001b[0m \u001b[39m# reshape to (365, 24)\u001b[39;00m\n\u001b[0;32m-> 1437\u001b[0m Values \u001b[39m=\u001b[39m full_year\u001b[39m.\u001b[39;49mreshape(\u001b[39m-\u001b[39;49m\u001b[39m1\u001b[39;49m, \u001b[39m24\u001b[39;49m)  \u001b[39m# shape (365, 24)\u001b[39;00m\n\u001b[1;32m   1439\u001b[0m \u001b[39m# create unique days\u001b[39;00m\n\u001b[1;32m   1440\u001b[0m unique_days, nds \u001b[39m=\u001b[39m np\u001b[39m.\u001b[39munique(Values, axis\u001b[39m=\u001b[39m\u001b[39m0\u001b[39m, return_inverse\u001b[39m=\u001b[39m\u001b[39mTrue\u001b[39;00m)\n",
      "\u001b[0;31mValueError\u001b[0m: cannot reshape array of size 12 into shape (24)"
     ]
    }
   ],
   "source": [
    "template = UmiTemplateLibrary.from_idf_files(idf_files = [eplus_file], weather=weather, debug=True, keep_all_zones=False)\n",
    "\n"
   ]
  },
  {
   "cell_type": "code",
   "execution_count": null,
   "metadata": {},
   "outputs": [],
   "source": []
  }
 ],
 "metadata": {
  "kernelspec": {
   "display_name": "archdata",
   "language": "python",
   "name": "python3"
  },
  "language_info": {
   "codemirror_mode": {
    "name": "ipython",
    "version": 3
   },
   "file_extension": ".py",
   "mimetype": "text/x-python",
   "name": "python",
   "nbconvert_exporter": "python",
   "pygments_lexer": "ipython3",
   "version": "3.8.16"
  },
  "orig_nbformat": 4
 },
 "nbformat": 4,
 "nbformat_minor": 2
}
